{
 "cells": [
  {
   "cell_type": "code",
   "execution_count": 1,
   "metadata": {},
   "outputs": [
    {
     "name": "stderr",
     "output_type": "stream",
     "text": [
      "C:\\Users\\aubin\\AppData\\Roaming\\Python\\Python38\\site-packages\\cupy\\_environment.py:213: UserWarning: CUDA path could not be detected. Set CUDA_PATH environment variable if CuPy fails to load.\n",
      "  warnings.warn(\n",
      "C:\\Users\\aubin\\AppData\\Roaming\\Python\\Python38\\site-packages\\cupy\\_environment.py:213: UserWarning: CUDA path could not be detected. Set CUDA_PATH environment variable if CuPy fails to load.\n",
      "  warnings.warn(\n",
      "C:\\Users\\aubin\\AppData\\Roaming\\Python\\Python38\\site-packages\\cupy\\_environment.py:213: UserWarning: CUDA path could not be detected. Set CUDA_PATH environment variable if CuPy fails to load.\n",
      "  warnings.warn(\n"
     ]
    }
   ],
   "source": [
    "import spacy\n",
    "import pickle\n",
    "import random\n",
    "import tqdm\n",
    "import pandas as pd"
   ]
  },
  {
   "cell_type": "markdown",
   "metadata": {},
   "source": [
    "file = open(\"../stored_data/articles_cleaned.obj\",'rb')\n",
    "articles_cleaned = pickle.load(file)\n",
    "file.close()"
   ]
  },
  {
   "cell_type": "code",
   "execution_count": 2,
   "metadata": {},
   "outputs": [],
   "source": [
    "file = open(\"../stored_data/articles_with_tickers.obj\",'rb')\n",
    "articles_cleaned = pickle.load(file)\n",
    "file.close()"
   ]
  },
  {
   "cell_type": "code",
   "execution_count": 3,
   "metadata": {},
   "outputs": [],
   "source": [
    "nlp = spacy.load('../model/pipeline')"
   ]
  },
  {
   "cell_type": "code",
   "execution_count": 4,
   "metadata": {},
   "outputs": [],
   "source": [
    "entity_type = [\n",
    "    'EVENT',\n",
    "    'FAC',\n",
    "    'GPE',\n",
    "    'LAW',\n",
    "    'LOC',\n",
    "    'NORP',\n",
    "    'ORG',\n",
    "    'PERSON',\n",
    "    'PRODUCT',\n",
    "    'WORK_OF_ART',\n",
    "    'COMPANY',\n",
    "    'COMMODITY'\n",
    "]"
   ]
  },
  {
   "cell_type": "code",
   "execution_count": 5,
   "metadata": {},
   "outputs": [],
   "source": [
    "id = list(articles_cleaned.keys())\n",
    "\n",
    "random_id = random.sample(id, 1)\n",
    "random_article = articles_cleaned[random_id[0]]"
   ]
  },
  {
   "cell_type": "code",
   "execution_count": 6,
   "metadata": {},
   "outputs": [],
   "source": [
    "doc = nlp(random_article)"
   ]
  },
  {
   "cell_type": "code",
   "execution_count": 8,
   "metadata": {},
   "outputs": [
    {
     "name": "stderr",
     "output_type": "stream",
     "text": [
      "100%|██████████| 8399/8399 [06:36<00:00, 21.19it/s]\n"
     ]
    }
   ],
   "source": [
    "all_entities = dict((el,[]) for el in entity_type)\n",
    "entity_with_fileid = {}\n",
    "\n",
    "for file_id in tqdm.tqdm(id):\n",
    "    entity_with_fileid[file_id] = []\n",
    "    article = articles_cleaned[file_id]\n",
    "    doc = nlp(article)\n",
    "    for ent in doc.ents:\n",
    "        if (ent.label_ != \"DATE\") and (ent.label_ != \"CARDINAL\") and (ent.label_ != \"PERCENT\") and (ent.label_ != \"QUANTITY\") and (ent.label_ != \"ORDINAL\") and (ent.label_ != \"LANGUAGE\") and (ent.label_ != \"MONEY\") and (ent.label_ != \"TIME\"):\n",
    "            all_entities[ent.label_].append([ent.text, file_id])"
   ]
  },
  {
   "cell_type": "code",
   "execution_count": 9,
   "metadata": {},
   "outputs": [
    {
     "data": {
      "text/plain": [
       "dict_keys(['EVENT', 'FAC', 'GPE', 'LAW', 'LOC', 'NORP', 'ORG', 'PERSON', 'PRODUCT', 'WORK_OF_ART', 'COMPANY', 'COMMODITY'])"
      ]
     },
     "execution_count": 9,
     "metadata": {},
     "output_type": "execute_result"
    }
   ],
   "source": [
    "all_entities.keys()"
   ]
  },
  {
   "cell_type": "code",
   "execution_count": 10,
   "metadata": {},
   "outputs": [],
   "source": [
    "# store in a dataframe with the following columns : 'id, name, entity, mentions'"
   ]
  },
  {
   "cell_type": "code",
   "execution_count": 19,
   "metadata": {},
   "outputs": [],
   "source": [
    "count = 0\n",
    "ent_to_article = {}\n",
    "\n",
    "from collections import Counter\n",
    "all_rows = []\n",
    "for type in entity_type:\n",
    "    selected_entities = all_entities[type]\n",
    "    all_ents = []\n",
    "\n",
    "    for sel in selected_entities:\n",
    "        ent = sel[0]\n",
    "        all_ents.append(ent)\n",
    "        id = sel[1]\n",
    "\n",
    "        if ent in list(ent_to_article.keys()):\n",
    "            ent_to_article[ent].append(id)\n",
    "        else:\n",
    "            ent_to_article[ent] = []\n",
    "            ent_to_article[ent].append(id)\n",
    "    \n",
    "    counted_entities = Counter(all_ents)\n",
    "    for key, val in counted_entities.items():\n",
    "        count += 1\n",
    "        articles = ent_to_article[key]\n",
    "        row = [count, key, type, val, articles]\n",
    "        all_rows.append(row)\n"
   ]
  },
  {
   "cell_type": "code",
   "execution_count": 20,
   "metadata": {},
   "outputs": [
    {
     "data": {
      "text/plain": [
       "19762"
      ]
     },
     "execution_count": 20,
     "metadata": {},
     "output_type": "execute_result"
    }
   ],
   "source": [
    "len(all_rows)"
   ]
  },
  {
   "cell_type": "code",
   "execution_count": 23,
   "metadata": {},
   "outputs": [],
   "source": [
    "entities = pd.DataFrame(all_rows, columns=['id', 'name', 'label', 'mentions', 'articles'])"
   ]
  },
  {
   "cell_type": "code",
   "execution_count": 25,
   "metadata": {},
   "outputs": [],
   "source": [
    "entities.to_csv('../database/entities.csv')"
   ]
  },
  {
   "cell_type": "code",
   "execution_count": null,
   "metadata": {},
   "outputs": [],
   "source": []
  }
 ],
 "metadata": {
  "interpreter": {
   "hash": "d77edf4d22c95116f7db69775c20b4e4dae950b1cce7917aaff0b99c27fca43a"
  },
  "kernelspec": {
   "display_name": "Python 3.8.12 64-bit ('nlp-new': conda)",
   "language": "python",
   "name": "python3"
  },
  "language_info": {
   "codemirror_mode": {
    "name": "ipython",
    "version": 3
   },
   "file_extension": ".py",
   "mimetype": "text/x-python",
   "name": "python",
   "nbconvert_exporter": "python",
   "pygments_lexer": "ipython3",
   "version": "3.8.12"
  },
  "orig_nbformat": 4
 },
 "nbformat": 4,
 "nbformat_minor": 2
}
