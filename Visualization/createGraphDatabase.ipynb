{
 "cells": [
  {
   "cell_type": "code",
   "execution_count": 1,
   "id": "f3004232",
   "metadata": {},
   "outputs": [],
   "source": [
    "from neo4j import GraphDatabase\n",
    "import pandas as pd\n",
    "\n",
    "import time"
   ]
  },
  {
   "cell_type": "code",
   "execution_count": 14,
   "id": "a255e10e",
   "metadata": {},
   "outputs": [],
   "source": [
    "df_nodes = pd.read_csv(\"reuters_nodes - Sheet1.csv\")\n",
    "df_nodes['node_NER'] = df_nodes['node_NER'].apply(lambda node_NER: [node_NER])"
   ]
  },
  {
   "cell_type": "code",
   "execution_count": 3,
   "id": "1ca74fe0",
   "metadata": {},
   "outputs": [
    {
     "data": {
      "text/html": [
       "<div>\n",
       "<style scoped>\n",
       "    .dataframe tbody tr th:only-of-type {\n",
       "        vertical-align: middle;\n",
       "    }\n",
       "\n",
       "    .dataframe tbody tr th {\n",
       "        vertical-align: top;\n",
       "    }\n",
       "\n",
       "    .dataframe thead th {\n",
       "        text-align: right;\n",
       "    }\n",
       "</style>\n",
       "<table border=\"1\" class=\"dataframe\">\n",
       "  <thead>\n",
       "    <tr style=\"text-align: right;\">\n",
       "      <th></th>\n",
       "      <th>node_id</th>\n",
       "      <th>node_name</th>\n",
       "      <th>node_NER</th>\n",
       "    </tr>\n",
       "  </thead>\n",
       "  <tbody>\n",
       "    <tr>\n",
       "      <th>0</th>\n",
       "      <td>1</td>\n",
       "      <td>Japan</td>\n",
       "      <td>[LOCATION]</td>\n",
       "    </tr>\n",
       "    <tr>\n",
       "      <th>1</th>\n",
       "      <td>2</td>\n",
       "      <td>Sumita</td>\n",
       "      <td>[PERSON]</td>\n",
       "    </tr>\n",
       "    <tr>\n",
       "      <th>2</th>\n",
       "      <td>3</td>\n",
       "      <td>Paris</td>\n",
       "      <td>[LOCATION]</td>\n",
       "    </tr>\n",
       "    <tr>\n",
       "      <th>3</th>\n",
       "      <td>4</td>\n",
       "      <td>USA</td>\n",
       "      <td>[LOCATION]</td>\n",
       "    </tr>\n",
       "    <tr>\n",
       "      <th>4</th>\n",
       "      <td>5</td>\n",
       "      <td>Tokyo</td>\n",
       "      <td>[LOCATION]</td>\n",
       "    </tr>\n",
       "  </tbody>\n",
       "</table>\n",
       "</div>"
      ],
      "text/plain": [
       "   node_id node_name    node_NER\n",
       "0        1     Japan  [LOCATION]\n",
       "1        2    Sumita    [PERSON]\n",
       "2        3     Paris  [LOCATION]\n",
       "3        4       USA  [LOCATION]\n",
       "4        5     Tokyo  [LOCATION]"
      ]
     },
     "execution_count": 3,
     "metadata": {},
     "output_type": "execute_result"
    }
   ],
   "source": [
    "df_nodes"
   ]
  },
  {
   "cell_type": "code",
   "execution_count": 4,
   "id": "3e287c79",
   "metadata": {},
   "outputs": [
    {
     "data": {
      "text/html": [
       "<div>\n",
       "<style scoped>\n",
       "    .dataframe tbody tr th:only-of-type {\n",
       "        vertical-align: middle;\n",
       "    }\n",
       "\n",
       "    .dataframe tbody tr th {\n",
       "        vertical-align: top;\n",
       "    }\n",
       "\n",
       "    .dataframe thead th {\n",
       "        text-align: right;\n",
       "    }\n",
       "</style>\n",
       "<table border=\"1\" class=\"dataframe\">\n",
       "  <thead>\n",
       "    <tr style=\"text-align: right;\">\n",
       "      <th></th>\n",
       "      <th>Source</th>\n",
       "      <th>Target</th>\n",
       "      <th>Relationship</th>\n",
       "    </tr>\n",
       "  </thead>\n",
       "  <tbody>\n",
       "    <tr>\n",
       "      <th>0</th>\n",
       "      <td>2</td>\n",
       "      <td>1</td>\n",
       "      <td>WAS_BORN</td>\n",
       "    </tr>\n",
       "    <tr>\n",
       "      <th>1</th>\n",
       "      <td>2</td>\n",
       "      <td>5</td>\n",
       "      <td>WAS_BORN</td>\n",
       "    </tr>\n",
       "    <tr>\n",
       "      <th>2</th>\n",
       "      <td>2</td>\n",
       "      <td>3</td>\n",
       "      <td>LIVED_IN</td>\n",
       "    </tr>\n",
       "    <tr>\n",
       "      <th>3</th>\n",
       "      <td>2</td>\n",
       "      <td>4</td>\n",
       "      <td>STUDIED_IN</td>\n",
       "    </tr>\n",
       "    <tr>\n",
       "      <th>4</th>\n",
       "      <td>5</td>\n",
       "      <td>1</td>\n",
       "      <td>IS_CAPITAL</td>\n",
       "    </tr>\n",
       "  </tbody>\n",
       "</table>\n",
       "</div>"
      ],
      "text/plain": [
       "   Source  Target Relationship\n",
       "0       2       1     WAS_BORN\n",
       "1       2       5     WAS_BORN\n",
       "2       2       3     LIVED_IN\n",
       "3       2       4   STUDIED_IN\n",
       "4       5       1   IS_CAPITAL"
      ]
     },
     "execution_count": 4,
     "metadata": {},
     "output_type": "execute_result"
    }
   ],
   "source": [
    "df_rel = pd.read_csv(\"reuters_rel - Sheet1.csv\")\n",
    "df_rel"
   ]
  },
  {
   "cell_type": "code",
   "execution_count": 5,
   "id": "41fbb768",
   "metadata": {},
   "outputs": [],
   "source": [
    "class Neo4jConnection:\n",
    "    \n",
    "    def __init__(self, uri, user, pwd):\n",
    "        \n",
    "        self.__uri = uri\n",
    "        self.__user = user\n",
    "        self.__pwd = pwd\n",
    "        self.__driver = None\n",
    "        \n",
    "        try:\n",
    "            self.__driver = GraphDatabase.driver(self.__uri, auth=(self.__user, self.__pwd))\n",
    "        except Exception as e:\n",
    "            print(\"Failed to create the driver:\", e)\n",
    "        \n",
    "    def close(self):\n",
    "        \n",
    "        if self.__driver is not None:\n",
    "            self.__driver.close()\n",
    "        \n",
    "    def query(self, query, parameters=None, db=None):\n",
    "        \n",
    "        assert self.__driver is not None, \"Driver not initialized!\"\n",
    "        session = None\n",
    "        response = None\n",
    "        \n",
    "        try: \n",
    "            session = self.__driver.session(database=db) if db is not None else self.__driver.session() \n",
    "            response = list(session.run(query, parameters))\n",
    "        except Exception as e:\n",
    "            print(\"Query failed:\", e)\n",
    "        finally: \n",
    "            if session is not None:\n",
    "                session.close()\n",
    "        return response"
   ]
  },
  {
   "cell_type": "code",
   "execution_count": 6,
   "id": "29422c40",
   "metadata": {},
   "outputs": [],
   "source": [
    "conn = Neo4jConnection(uri=\"bolt://localhost:7687\", user=\"neo4j\", pwd=\"NER123\")"
   ]
  },
  {
   "cell_type": "code",
   "execution_count": 7,
   "id": "dfd22015",
   "metadata": {},
   "outputs": [
    {
     "data": {
      "text/plain": [
       "[]"
      ]
     },
     "execution_count": 7,
     "metadata": {},
     "output_type": "execute_result"
    }
   ],
   "source": [
    "conn.query('CREATE CONSTRAINT UniqueEntityId ON (e:Entity) ASSERT e.id IS UNIQUE')"
   ]
  },
  {
   "cell_type": "code",
   "execution_count": 8,
   "id": "18e7eb7d",
   "metadata": {},
   "outputs": [],
   "source": [
    "def add_nodes(rows):\n",
    "\n",
    "    query = ''' UNWIND $rows AS row\n",
    "                MERGE (:Node {name: row.node_name, id: row.node_id, type: row.node_NER})\n",
    "                RETURN count(*) as total\n",
    "    '''\n",
    "    return insert_data(query, rows)\n",
    "\n",
    "\n",
    "def add_edges(rows):\n",
    "    \n",
    "    \n",
    "    query = \"\"\" UNWIND $rows AS row\n",
    "                MATCH (src:Node {id: row.Source}), (tar:Node {id: row.Target})\n",
    "                CREATE (src)-[rel:%s]->(tar)\n",
    "    \"\"\" % relationship\n",
    "    \n",
    "    return insert_data(query, rows)\n",
    "\n",
    "def insert_data(query, rows):\n",
    "\n",
    "    total = 0\n",
    "    start = time.time()\n",
    "    result = None\n",
    "\n",
    "    res = conn.query(query, parameters={'rows': rows.to_dict('records')})\n",
    "    try:\n",
    "        total = res[0]['total']\n",
    "    except:\n",
    "        total = 0\n",
    "    result = {\"total\":total, \"time\":time.time()-start}\n",
    "    print(result)\n",
    "\n",
    "    return result"
   ]
  },
  {
   "cell_type": "code",
   "execution_count": 9,
   "id": "9c643d83",
   "metadata": {},
   "outputs": [
    {
     "name": "stdout",
     "output_type": "stream",
     "text": [
      "{'total': 5, 'time': 0.13599920272827148}\n"
     ]
    },
    {
     "data": {
      "text/plain": [
       "{'total': 5, 'time': 0.13599920272827148}"
      ]
     },
     "execution_count": 9,
     "metadata": {},
     "output_type": "execute_result"
    }
   ],
   "source": [
    "add_nodes(df_nodes)"
   ]
  },
  {
   "cell_type": "code",
   "execution_count": 10,
   "id": "f08d2ddf",
   "metadata": {},
   "outputs": [
    {
     "name": "stdout",
     "output_type": "stream",
     "text": [
      "WAS_BORN\n",
      "{'total': 0, 'time': 0.09499979019165039}\n",
      "LIVED_IN\n",
      "{'total': 0, 'time': 0.050998687744140625}\n",
      "STUDIED_IN\n",
      "{'total': 0, 'time': 0.04900169372558594}\n",
      "IS_CAPITAL\n",
      "{'total': 0, 'time': 0.05299997329711914}\n"
     ]
    }
   ],
   "source": [
    "for relationship in df_rel['Relationship'].unique():\n",
    "    print(relationship)\n",
    "    y = df_rel[df_rel['Relationship'] == relationship]\n",
    "    #print(y.shape)\n",
    "    add_edges(y)"
   ]
  },
  {
   "cell_type": "code",
   "execution_count": 12,
   "id": "0a56f3ab",
   "metadata": {},
   "outputs": [
    {
     "data": {
      "text/plain": [
       "'\\nMATCH (n:Node) \\nCALL apoc.create.addLabels(n, n.type) \\nYIELD node \\nRETURN node\\n'"
      ]
     },
     "execution_count": 12,
     "metadata": {},
     "output_type": "execute_result"
    }
   ],
   "source": [
    "# Update node labels based on node_NER list - run the the neo4j  terminal\n",
    "'''\n",
    "MATCH (n:Node) \n",
    "CALL apoc.create.addLabels(n, n.type) \n",
    "YIELD node \n",
    "RETURN node\n",
    "'''"
   ]
  },
  {
   "cell_type": "code",
   "execution_count": null,
   "id": "18a27b79",
   "metadata": {},
   "outputs": [],
   "source": []
  }
 ],
 "metadata": {
  "kernelspec": {
   "display_name": "Python 3 (ipykernel)",
   "language": "python",
   "name": "python3"
  },
  "language_info": {
   "codemirror_mode": {
    "name": "ipython",
    "version": 3
   },
   "file_extension": ".py",
   "mimetype": "text/x-python",
   "name": "python",
   "nbconvert_exporter": "python",
   "pygments_lexer": "ipython3",
   "version": "3.9.4"
  }
 },
 "nbformat": 4,
 "nbformat_minor": 5
}
