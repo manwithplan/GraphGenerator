{
 "cells": [
  {
   "cell_type": "code",
   "execution_count": 2,
   "id": "3fdbef66",
   "metadata": {},
   "outputs": [],
   "source": [
    "from neo4j import GraphDatabase\n",
    "import pandas as pd\n",
    "import time"
   ]
  },
  {
   "cell_type": "code",
   "execution_count": 9,
   "id": "90ca87de",
   "metadata": {},
   "outputs": [],
   "source": [
    "# Create a dataframe with nodes from entities.csv df_nodes:\n",
    "df_nodes = pd.read_csv(\"entities.csv\")\n",
    "# Change label column into a list:\n",
    "df_nodes['label'] = df_nodes['label'].apply(lambda label: [label])"
   ]
  },
  {
   "cell_type": "code",
   "execution_count": 10,
   "id": "6714f93d",
   "metadata": {},
   "outputs": [
    {
     "data": {
      "text/html": [
       "<div>\n",
       "<style scoped>\n",
       "    .dataframe tbody tr th:only-of-type {\n",
       "        vertical-align: middle;\n",
       "    }\n",
       "\n",
       "    .dataframe tbody tr th {\n",
       "        vertical-align: top;\n",
       "    }\n",
       "\n",
       "    .dataframe thead th {\n",
       "        text-align: right;\n",
       "    }\n",
       "</style>\n",
       "<table border=\"1\" class=\"dataframe\">\n",
       "  <thead>\n",
       "    <tr style=\"text-align: right;\">\n",
       "      <th></th>\n",
       "      <th>Unnamed: 0</th>\n",
       "      <th>id</th>\n",
       "      <th>name</th>\n",
       "      <th>label</th>\n",
       "      <th>mentions</th>\n",
       "    </tr>\n",
       "  </thead>\n",
       "  <tbody>\n",
       "    <tr>\n",
       "      <th>0</th>\n",
       "      <td>0</td>\n",
       "      <td>1</td>\n",
       "      <td>iran-iraq war</td>\n",
       "      <td>[EVENT]</td>\n",
       "      <td>5</td>\n",
       "    </tr>\n",
       "    <tr>\n",
       "      <th>1</th>\n",
       "      <td>1</td>\n",
       "      <td>2</td>\n",
       "      <td>the gulf war</td>\n",
       "      <td>[EVENT]</td>\n",
       "      <td>8</td>\n",
       "    </tr>\n",
       "    <tr>\n",
       "      <th>2</th>\n",
       "      <td>2</td>\n",
       "      <td>3</td>\n",
       "      <td>gulf war</td>\n",
       "      <td>[EVENT]</td>\n",
       "      <td>2</td>\n",
       "    </tr>\n",
       "    <tr>\n",
       "      <th>3</th>\n",
       "      <td>3</td>\n",
       "      <td>4</td>\n",
       "      <td>yom kippur war</td>\n",
       "      <td>[EVENT]</td>\n",
       "      <td>1</td>\n",
       "    </tr>\n",
       "    <tr>\n",
       "      <th>4</th>\n",
       "      <td>4</td>\n",
       "      <td>5</td>\n",
       "      <td>september m3</td>\n",
       "      <td>[EVENT]</td>\n",
       "      <td>2</td>\n",
       "    </tr>\n",
       "  </tbody>\n",
       "</table>\n",
       "</div>"
      ],
      "text/plain": [
       "   Unnamed: 0  id            name    label  mentions\n",
       "0           0   1   iran-iraq war  [EVENT]         5\n",
       "1           1   2    the gulf war  [EVENT]         8\n",
       "2           2   3        gulf war  [EVENT]         2\n",
       "3           3   4  yom kippur war  [EVENT]         1\n",
       "4           4   5    september m3  [EVENT]         2"
      ]
     },
     "execution_count": 10,
     "metadata": {},
     "output_type": "execute_result"
    }
   ],
   "source": [
    "df_nodes.head()"
   ]
  },
  {
   "cell_type": "code",
   "execution_count": null,
   "id": "ac1a0a64",
   "metadata": {},
   "outputs": [],
   "source": [
    "# Create a dataframe with relationships df_rel:\n",
    "df_rel = pd.read_csv(\"\")\n",
    "df_rel"
   ]
  },
  {
   "cell_type": "code",
   "execution_count": 11,
   "id": "4a9a49fb",
   "metadata": {},
   "outputs": [],
   "source": [
    "class Neo4jConnection:\n",
    "    \n",
    "    def __init__(self, uri, user, pwd):\n",
    "        \n",
    "        self.__uri = uri\n",
    "        self.__user = user\n",
    "        self.__pwd = pwd\n",
    "        self.__driver = None\n",
    "        \n",
    "        try:\n",
    "            self.__driver = GraphDatabase.driver(self.__uri, auth=(self.__user, self.__pwd))\n",
    "        except Exception as e:\n",
    "            print(\"Failed to create the driver:\", e)\n",
    "        \n",
    "    def close(self):\n",
    "        \n",
    "        if self.__driver is not None:\n",
    "            self.__driver.close()\n",
    "        \n",
    "    def query(self, query, parameters=None, db=None):\n",
    "        \n",
    "        assert self.__driver is not None, \"Driver not initialized!\"\n",
    "        session = None\n",
    "        response = None\n",
    "        \n",
    "        try: \n",
    "            session = self.__driver.session(database=db) if db is not None else self.__driver.session() \n",
    "            response = list(session.run(query, parameters))\n",
    "        except Exception as e:\n",
    "            print(\"Query failed:\", e)\n",
    "        finally: \n",
    "            if session is not None:\n",
    "                session.close()\n",
    "        return response"
   ]
  },
  {
   "cell_type": "code",
   "execution_count": 12,
   "id": "1783f4dd",
   "metadata": {},
   "outputs": [],
   "source": [
    "conn = Neo4jConnection(uri=\"bolt://localhost:7687\", user=\"neo4j\", pwd=\"NER123\")"
   ]
  },
  {
   "cell_type": "code",
   "execution_count": 13,
   "id": "b097ad85",
   "metadata": {},
   "outputs": [
    {
     "data": {
      "text/plain": [
       "[]"
      ]
     },
     "execution_count": 13,
     "metadata": {},
     "output_type": "execute_result"
    }
   ],
   "source": [
    "conn.query('CREATE CONSTRAINT UniqueEntityId ON (e:Entity) ASSERT e.id IS UNIQUE')"
   ]
  },
  {
   "cell_type": "code",
   "execution_count": 14,
   "id": "482b877c",
   "metadata": {},
   "outputs": [],
   "source": [
    "def add_nodes(rows):\n",
    "\n",
    "    query = ''' UNWIND $rows AS row\n",
    "                MERGE (:Node {name: row.name, id: row.id, type: row.label})\n",
    "                RETURN count(*) as total\n",
    "    '''\n",
    "    return insert_data(query, rows)\n",
    "\n",
    "\n",
    "def add_edges(rows):\n",
    "    \n",
    "    \n",
    "    query = \"\"\" UNWIND $rows AS row\n",
    "                MATCH (src:Node {id: row.Source}), (tar:Node {id: row.Target})\n",
    "                CREATE (src)-[rel:%s]->(tar)\n",
    "    \"\"\" % relationship\n",
    "    \n",
    "    return insert_data(query, rows)\n",
    "\n",
    "def insert_data(query, rows):\n",
    "\n",
    "    total = 0\n",
    "    start = time.time()\n",
    "    result = None\n",
    "\n",
    "    res = conn.query(query, parameters={'rows': rows.to_dict('records')})\n",
    "    try:\n",
    "        total = res[0]['total']\n",
    "    except:\n",
    "        total = 0\n",
    "    result = {\"total\":total, \"time\":time.time()-start}\n",
    "    print(result)\n",
    "\n",
    "    return result"
   ]
  },
  {
   "cell_type": "code",
   "execution_count": 15,
   "id": "ffcb0cae",
   "metadata": {},
   "outputs": [
    {
     "name": "stdout",
     "output_type": "stream",
     "text": [
      "{'total': 24305, 'time': 74.41509103775024}\n"
     ]
    },
    {
     "data": {
      "text/plain": [
       "{'total': 24305, 'time': 74.41509103775024}"
      ]
     },
     "execution_count": 15,
     "metadata": {},
     "output_type": "execute_result"
    }
   ],
   "source": [
    "add_nodes(df_nodes)"
   ]
  },
  {
   "cell_type": "code",
   "execution_count": null,
   "id": "962a8041",
   "metadata": {},
   "outputs": [],
   "source": [
    "for relationship in df_rel['Relationship'].unique():\n",
    "    print(relationship)\n",
    "    y = df_rel[df_rel['Relationship'] == relationship]\n",
    "    #print(y.shape)\n",
    "    add_edges(y)"
   ]
  },
  {
   "cell_type": "code",
   "execution_count": 16,
   "id": "900ab8d2",
   "metadata": {},
   "outputs": [
    {
     "data": {
      "text/plain": [
       "'\\nMATCH (n:Node) \\nCALL apoc.create.addLabels(n, n.type) \\nYIELD node \\nRETURN node\\n'"
      ]
     },
     "execution_count": 16,
     "metadata": {},
     "output_type": "execute_result"
    }
   ],
   "source": [
    "# Update node labels based on node_NER list - run the the neo4j  terminal\n",
    "'''\n",
    "MATCH (n:Node) \n",
    "CALL apoc.create.addLabels(n, n.type) \n",
    "YIELD node \n",
    "RETURN node\n",
    "'''"
   ]
  },
  {
   "cell_type": "code",
   "execution_count": null,
   "id": "7ea557bd",
   "metadata": {},
   "outputs": [],
   "source": []
  }
 ],
 "metadata": {
  "kernelspec": {
   "display_name": "Python 3 (ipykernel)",
   "language": "python",
   "name": "python3"
  },
  "language_info": {
   "codemirror_mode": {
    "name": "ipython",
    "version": 3
   },
   "file_extension": ".py",
   "mimetype": "text/x-python",
   "name": "python",
   "nbconvert_exporter": "python",
   "pygments_lexer": "ipython3",
   "version": "3.9.4"
  }
 },
 "nbformat": 4,
 "nbformat_minor": 5
}
