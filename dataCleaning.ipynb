{
 "cells": [
  {
   "cell_type": "code",
   "execution_count": 1,
   "id": "b63ea2ce",
   "metadata": {},
   "outputs": [],
   "source": [
    "import nltk\n",
    "import spacy"
   ]
  },
  {
   "cell_type": "code",
   "execution_count": 14,
   "id": "261a69bb",
   "metadata": {},
   "outputs": [],
   "source": [
    "nlp = spacy.load(\"en_core_web_sm\")"
   ]
  },
  {
   "cell_type": "code",
   "execution_count": 15,
   "id": "316aef25",
   "metadata": {},
   "outputs": [
    {
     "name": "stderr",
     "output_type": "stream",
     "text": [
      "[nltk_data] Downloading package reuters to\n",
      "[nltk_data]     C:\\Users\\kasia\\AppData\\Roaming\\nltk_data...\n",
      "[nltk_data]   Package reuters is already up-to-date!\n"
     ]
    }
   ],
   "source": [
    "nltk.download('reuters')\n",
    "from nltk.corpus import reuters"
   ]
  },
  {
   "cell_type": "code",
   "execution_count": 16,
   "id": "e64ed615",
   "metadata": {},
   "outputs": [],
   "source": [
    "files = reuters.fileids()"
   ]
  },
  {
   "cell_type": "code",
   "execution_count": 17,
   "id": "2d851f57",
   "metadata": {},
   "outputs": [],
   "source": [
    "sents = reuters.sents()"
   ]
  },
  {
   "cell_type": "code",
   "execution_count": 18,
   "id": "e0821f83",
   "metadata": {},
   "outputs": [],
   "source": [
    "nlp = spacy.load('en_core_web_lg')"
   ]
  },
  {
   "cell_type": "code",
   "execution_count": 19,
   "id": "6b906a11",
   "metadata": {},
   "outputs": [],
   "source": [
    "import string \n",
    "import re"
   ]
  },
  {
   "cell_type": "code",
   "execution_count": 44,
   "id": "b7f3a732",
   "metadata": {},
   "outputs": [],
   "source": [
    "def clean_sentence(sentence):\n",
    "    lemmas=[]\n",
    "    for word in sentence:\n",
    "        lemmas.append(word.lemma_)\n",
    "    lemma_string = ' '.join(lemmas)\n",
    "    txt_no_return = lemma_string.replace(\"\\n\", \" \") # remove \"/n\"\n",
    "    text_without_punct = txt_no_return.translate(str.maketrans('', '', string.punctuation)) # remove punctuation\n",
    "    text_one_space = re.sub(' +', ' ', text_without_punct) # remove multiple spaces\n",
    "    text_clean = text_one_space.strip()\n",
    "    return text_clean"
   ]
  },
  {
   "cell_type": "code",
   "execution_count": 45,
   "id": "8ad8034d",
   "metadata": {},
   "outputs": [],
   "source": [
    "def get_doc(article):\n",
    "    doc = nlp(article)\n",
    "    sentences = []\n",
    "    for sent in doc.sents:\n",
    "        sentences.append(clean_sentence(sent))\n",
    "    return sentences"
   ]
  },
  {
   "cell_type": "code",
   "execution_count": 46,
   "id": "7e5f4296",
   "metadata": {},
   "outputs": [],
   "source": [
    "# There are 4 main types of articles. The first 3 mentioned above do not hold any information about relation but simply about revenues, both quarterly and yearly.\n",
    "# For a prelimnary analysis we will be ignoring these. One easy way of ignoring these is by excluding all articles that contain the word \"qtr\", the other one is where \n",
    "# \"vs\" is mentioned at least twice.\n",
    "\n",
    "suitable_articles = {}                                   \n",
    "                                                          \n",
    "for article_id in files[:1]:                                  \n",
    "    if reuters.raw(article_id).count(\"vs\") <= 1:   #This gives us a list of 9134 articles that are suitable to be analyzed for relations between entities.       \n",
    "        suitable_articles[article_id] = get_doc(reuters.raw(article_id))"
   ]
  },
  {
   "cell_type": "code",
   "execution_count": 47,
   "id": "1d593795",
   "metadata": {},
   "outputs": [
    {
     "data": {
      "text/plain": [
       "{'test/14826': ['ASIAN EXPORTERS fear damage from USJAPAN rift',\n",
       "  'mount trade friction between the US and Japan have raise fear among many of Asia s export nation that the row could inflict far reach economic damage businessman and official say',\n",
       "  'they tell Reuter correspondent in asian capital a US move against Japan might boost protectionist sentiment in the US and lead to curb on american import of their product',\n",
       "  'but some exporter say that while the conflict would hurt they in the long run in the short term Tokyo s loss might be their gain',\n",
       "  'the US have say it will impose 300 mln dlr of tariff on import of japanese electronic good on April 17 in retaliation for Japan s allege failure to stick to a pact not to sell semiconductor on world market at below cost',\n",
       "  'unofficial japanese estimate put the impact of the tariff at 10 billion dlr and spokesman for major electronic firm say they would virtually halt export of product hit by the new taxis',\n",
       "  'we would not be able to do business say a spokesman for lead japanese electronic firm Matsushita Electric Industrial Co Ltd ltmct',\n",
       "  'if the tariff remain in place for any length of time beyond a few month it will mean the complete erosion of export of good subject to tariff to the US say Tom Murtha a stock analyst at the Tokyo office of broker ltjame Capel and Co',\n",
       "  'in Taiwan businessman and official be also worried',\n",
       "  'we be aware of the seriousness of the US threat against Japan because it serve as a warning to we say a senior taiwanese trade official who ask not to be name',\n",
       "  'Taiwan have a trade trade surplus of 156 billion dlrs last year 95 pct of it with the US',\n",
       "  'the surplus help swell Taiwan s foreign exchange reserve to 53 billion dlr among the world s large',\n",
       "  'we must quickly open our market remove trade barrier and cut import tariff to allow import of US Products if we want to defuse problem from possible US retaliation say Paul Sheen chairman of textile exporter ltTaiwan Safe Group',\n",
       "  'a senior official of South Korea s trade promotion association say the trade dispute between the US and Japan might also lead to pressure on South Korea whose chief export be similar to those of Japan',\n",
       "  'last year South Korea have a trade surplus of 71 billion dlrs with the US up from 49 billion dlr in 1985',\n",
       "  'in Malaysia trade officer and businessman say tough curb against Japan might allow hard hit producer of semiconductor in third country to expand their sale to the US in Hong Kong where newspaper have allege Japan have be sell below cost semiconductor some electronic manufacturer share that view',\n",
       "  'but other businessman say such a short term commercial advantage would be outweigh by furth US pressure to block import',\n",
       "  'that be a very short term view say Lawrence Mills director general of the Federation of Hong Kong Industry',\n",
       "  'if the whole purpose be to prevent import one day it will be extend to other source',\n",
       "  'much more serious for Hong Kong be the disadvantage of action restrain trade he say',\n",
       "  'the US',\n",
       "  'last year be Hong Kong s big export market account for over 30 pct of domestically produce export',\n",
       "  'the australian government be await the outcome of trade talk between the US and Japan with interest and concern Industry Minister John Button say in Canberra last Friday',\n",
       "  'this kind of deterioration in trade relation between two country which be major trading partner of ours be a very serious matter Button say',\n",
       "  'he say Australia s concern centre on coal and beef Australia s two large export to Japan and also significant US export to that country',\n",
       "  'meanwhile usjapanese diplomatic manoeuvre to solve the trade stand off continue',\n",
       "  'Japan s rule Liberal Democratic Party yesterday outline a package of economic measure to boost the japanese economy',\n",
       "  'the measure propose include a large supplementary budget and record public work spend in the first half of the financial year',\n",
       "  'they also call for step up spending as an emergency measure to stimulate the economy despite Prime Minister Yasuhiro Nakasone s avowed fiscal reform program',\n",
       "  'Deputy US Trade Representative Michael Smith and Makoto Kuroda Japan s deputy minister of International Trade and industry MITI be due to meet in Washington this week in an effort to end the dispute',\n",
       "  '']}"
      ]
     },
     "execution_count": 47,
     "metadata": {},
     "output_type": "execute_result"
    }
   ],
   "source": [
    "suitable_articles"
   ]
  }
 ],
 "metadata": {
  "kernelspec": {
   "display_name": "Python 3 (ipykernel)",
   "language": "python",
   "name": "python3"
  },
  "language_info": {
   "codemirror_mode": {
    "name": "ipython",
    "version": 3
   },
   "file_extension": ".py",
   "mimetype": "text/x-python",
   "name": "python",
   "nbconvert_exporter": "python",
   "pygments_lexer": "ipython3",
   "version": "3.9.4"
  }
 },
 "nbformat": 4,
 "nbformat_minor": 5
}
