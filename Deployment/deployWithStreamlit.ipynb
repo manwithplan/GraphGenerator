{
 "cells": [
  {
   "cell_type": "code",
   "execution_count": 10,
   "id": "ade51b57",
   "metadata": {},
   "outputs": [],
   "source": [
    "import streamlit as st\n",
    "from neo4j import GraphDatabase \n",
    "import pandas as pd \n",
    "from streamlit_agraph import agraph, Node, Edge, Config"
   ]
  },
  {
   "cell_type": "code",
   "execution_count": 11,
   "id": "24df5dc3",
   "metadata": {},
   "outputs": [],
   "source": [
    "# https://blog.streamlit.io/the-streamlit-agraph-component/"
   ]
  },
  {
   "cell_type": "code",
   "execution_count": 12,
   "id": "71ada07f",
   "metadata": {},
   "outputs": [],
   "source": [
    "# pip3 install neo4j-driver\n",
    "# python3 example.py\n",
    "\n",
    "from neo4j import GraphDatabase, basic_auth\n",
    "\n",
    "driver = GraphDatabase.driver(\n",
    "  \"bolt://23.20.234.60:7687\",\n",
    "  auth=basic_auth(\"neo4j\", \"elapses-calculation-presumption\"))\n",
    "\n",
    "cypher_query = '''\n",
    "MATCH (n)\n",
    "RETURN COUNT(n) AS count\n",
    "LIMIT $limit\n",
    "'''"
   ]
  },
  {
   "cell_type": "code",
   "execution_count": 13,
   "id": "d4213c20",
   "metadata": {},
   "outputs": [],
   "source": [
    "# Define a list of nodes, edges"
   ]
  },
  {
   "cell_type": "code",
   "execution_count": 23,
   "id": "1051e1c8",
   "metadata": {},
   "outputs": [],
   "source": [
    "nodes = []\n",
    "edges = []"
   ]
  },
  {
   "cell_type": "code",
   "execution_count": 24,
   "id": "07679799",
   "metadata": {},
   "outputs": [],
   "source": [
    "df_nodes = pd.read_csv(\"C:/Users/kasia/pyproj/Algorythm_NLP/Visualization/reuters_nodes - Sheet1.csv\")"
   ]
  },
  {
   "cell_type": "code",
   "execution_count": 25,
   "id": "8080d4cc",
   "metadata": {},
   "outputs": [],
   "source": [
    "df_rel = pd.read_csv(\"C:/Users/kasia/pyproj/Algorythm_NLP/Visualization/reuters_rel - Sheet1.csv\")"
   ]
  },
  {
   "cell_type": "code",
   "execution_count": 26,
   "id": "92497875",
   "metadata": {},
   "outputs": [],
   "source": [
    "for idx, item in df_nodes.iterrows():\n",
    "    nodes.append(Node(id = item['node_id'],\n",
    "                      label = item['node_name'],\n",
    "                      NER = item['node_NER'])\n",
    "                )"
   ]
  },
  {
   "cell_type": "code",
   "execution_count": 27,
   "id": "78b63dbb",
   "metadata": {},
   "outputs": [],
   "source": [
    "for idx, item in df_rel.iterrows():\n",
    "    edges.append(Edge(source = item['Source'],\n",
    "                      target = item['Target'],\n",
    "                      label = item['Relationship'])\n",
    "                )"
   ]
  },
  {
   "cell_type": "code",
   "execution_count": 28,
   "id": "ad373873",
   "metadata": {},
   "outputs": [
    {
     "name": "stdout",
     "output_type": "stream",
     "text": [
      "[<streamlit_agraph.Node object at 0x000002198A999340>, <streamlit_agraph.Node object at 0x00000219A76D12B0>, <streamlit_agraph.Node object at 0x00000219A76D1940>, <streamlit_agraph.Node object at 0x00000219A76D1A90>, <streamlit_agraph.Node object at 0x00000219A76D1460>]\n",
      "[<streamlit_agraph.Edge object at 0x00000219A76DBE50>, <streamlit_agraph.Edge object at 0x00000219A76DBC70>, <streamlit_agraph.Edge object at 0x00000219A76DB5E0>, <streamlit_agraph.Edge object at 0x00000219A76DBEB0>, <streamlit_agraph.Edge object at 0x00000219A76DB1F0>]\n"
     ]
    }
   ],
   "source": [
    "print(nodes)\n",
    "print(edges)"
   ]
  },
  {
   "cell_type": "code",
   "execution_count": 31,
   "id": "6880b898",
   "metadata": {},
   "outputs": [],
   "source": [
    "# Configuration\n",
    "\n",
    "config = Config(width=500, \n",
    "                height=500, \n",
    "                directed=True,\n",
    "                nodeHighlightBehavior=True, \n",
    "                highlightColor=\"#F7A7A6\", # or \"blue\"\n",
    "                collapsible=True,\n",
    "                node={'labelProperty':'label'},\n",
    "                link={'labelProperty': 'label', 'renderLabel': True}\n",
    "                # **kwargs e.g. node_size=1000 or node_color=\"blue\"\n",
    "                ) "
   ]
  },
  {
   "cell_type": "code",
   "execution_count": 32,
   "id": "70f08875",
   "metadata": {},
   "outputs": [],
   "source": [
    "return_value = agraph(nodes=nodes, \n",
    "                      edges=edges, \n",
    "                      config=config)"
   ]
  },
  {
   "cell_type": "code",
   "execution_count": null,
   "id": "be0b5100",
   "metadata": {},
   "outputs": [],
   "source": []
  },
  {
   "cell_type": "code",
   "execution_count": null,
   "id": "38ba01af",
   "metadata": {},
   "outputs": [],
   "source": []
  },
  {
   "cell_type": "code",
   "execution_count": null,
   "id": "cf0e9d96",
   "metadata": {},
   "outputs": [],
   "source": []
  }
 ],
 "metadata": {
  "kernelspec": {
   "display_name": "Python 3 (ipykernel)",
   "language": "python",
   "name": "python3"
  },
  "language_info": {
   "codemirror_mode": {
    "name": "ipython",
    "version": 3
   },
   "file_extension": ".py",
   "mimetype": "text/x-python",
   "name": "python",
   "nbconvert_exporter": "python",
   "pygments_lexer": "ipython3",
   "version": "3.9.4"
  }
 },
 "nbformat": 4,
 "nbformat_minor": 5
}
